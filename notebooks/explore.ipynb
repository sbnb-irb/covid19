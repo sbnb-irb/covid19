{
 "cells": [
  {
   "cell_type": "markdown",
   "metadata": {},
   "source": [
    "# Explore results\n",
    "\n",
    "In this notebook, I explore the similarity results in the search for COVID-19 candidates based on existing literature data."
   ]
  },
  {
   "cell_type": "code",
   "execution_count": 1,
   "metadata": {},
   "outputs": [],
   "source": [
    "%matplotlib inline\n",
    "import seaborn as sns\n",
    "import matplotlib.pyplot as plt\n",
    "import pickle\n",
    "import numpy as np\n",
    "import collections\n",
    "import h5py\n",
    "import pandas as pd\n",
    "from chemicalchecker.util.plot.diagnosticsplot import set_style\n",
    "set_style()"
   ]
  },
  {
   "cell_type": "markdown",
   "metadata": {},
   "source": [
    "## Literature data\n",
    "\n",
    "This is how the literature data looks like once pulled from the Google Spreadsheet and processed."
   ]
  },
  {
   "cell_type": "code",
   "execution_count": 2,
   "metadata": {},
   "outputs": [
    {
     "name": "stderr",
     "output_type": "stream",
     "text": [
      "/opt/miniconda3/envs/py37/lib/python3.7/site-packages/IPython/core/interactiveshell.py:3058: DtypeWarning: Columns (11,14) have mixed types. Specify dtype option on import or set low_memory=False.\n",
      "  interactivity=interactivity, compiler=compiler, result=result)\n"
     ]
    }
   ],
   "source": [
    "df = pd.read_csv(\"../web/data/df_cand_cc_evi0_moaall.csv\", sep=\"\\t\")"
   ]
  },
  {
   "cell_type": "code",
   "execution_count": null,
   "metadata": {},
   "outputs": [],
   "source": [
    "with h5py.File(\"../web/data/dist_cc.h5\", \"r\") as hf:\n",
    "    print(hf.keys())\n",
    "    ranks_raw = hf[\"ranks_raw\"][:]\n",
    "    ranks = hf[\"ranks\"][:]\n",
    "    ranks_w = hf[\"ranks_w\"][:]\n",
    "    rows = hf[\"rows\"][:]\n",
    "    cols = hf[\"cols\"][:]"
   ]
  },
  {
   "cell_type": "code",
   "execution_count": null,
   "metadata": {},
   "outputs": [],
   "source": [
    "np.where(rows == \"WHTVZRBIWZFKQO-UHFFFAOYSA-N\")"
   ]
  },
  {
   "cell_type": "code",
   "execution_count": null,
   "metadata": {},
   "outputs": [],
   "source": [
    "np.where(cols == \"WHTVZRBIWZFKQO-UHFFFAOYSA-N\")"
   ]
  },
  {
   "cell_type": "code",
   "execution_count": null,
   "metadata": {},
   "outputs": [],
   "source": [
    "np.where(cols == \"DFOCUWZXJBAUSQ-URLMMPGGSA-N\")"
   ]
  },
  {
   "cell_type": "code",
   "execution_count": null,
   "metadata": {},
   "outputs": [],
   "source": [
    "ranks_w[615526,128]"
   ]
  },
  {
   "cell_type": "code",
   "execution_count": 6,
   "metadata": {},
   "outputs": [
    {
     "data": {
      "text/html": [
       "<div>\n",
       "<style scoped>\n",
       "    .dataframe tbody tr th:only-of-type {\n",
       "        vertical-align: middle;\n",
       "    }\n",
       "\n",
       "    .dataframe tbody tr th {\n",
       "        vertical-align: top;\n",
       "    }\n",
       "\n",
       "    .dataframe thead th {\n",
       "        text-align: right;\n",
       "    }\n",
       "</style>\n",
       "<table border=\"1\" class=\"dataframe\">\n",
       "  <thead>\n",
       "    <tr style=\"text-align: right;\">\n",
       "      <th></th>\n",
       "      <th>inchikey</th>\n",
       "      <th>name</th>\n",
       "      <th>is drug</th>\n",
       "      <th>evidence</th>\n",
       "      <th>moa</th>\n",
       "      <th>support</th>\n",
       "      <th>p 1e-5</th>\n",
       "      <th>p 1e-4</th>\n",
       "      <th>p 1e-3</th>\n",
       "      <th>top1_inchikey</th>\n",
       "      <th>top2_inchikey</th>\n",
       "      <th>top3_inchikey</th>\n",
       "      <th>top1_name</th>\n",
       "      <th>top2_name</th>\n",
       "      <th>top3_name</th>\n",
       "    </tr>\n",
       "  </thead>\n",
       "  <tbody>\n",
       "    <tr>\n",
       "      <th>18461</th>\n",
       "      <td>XTKQDRDDLFGMQC-MGUPHCMFSA-N</td>\n",
       "      <td>Chembl39077</td>\n",
       "      <td>0</td>\n",
       "      <td>-2</td>\n",
       "      <td>-2</td>\n",
       "      <td>2</td>\n",
       "      <td>0</td>\n",
       "      <td>1</td>\n",
       "      <td>1</td>\n",
       "      <td>UCHDWCPVSPXUMX-UHFFFAOYSA-N</td>\n",
       "      <td>NaN</td>\n",
       "      <td>NaN</td>\n",
       "      <td>Montelukast</td>\n",
       "      <td>NaN</td>\n",
       "      <td>NaN</td>\n",
       "    </tr>\n",
       "    <tr>\n",
       "      <th>18471</th>\n",
       "      <td>XNCUQUMSNVUULG-RPGGHDGHSA-N</td>\n",
       "      <td>CID54684154</td>\n",
       "      <td>0</td>\n",
       "      <td>-2</td>\n",
       "      <td>-2</td>\n",
       "      <td>2</td>\n",
       "      <td>0</td>\n",
       "      <td>1</td>\n",
       "      <td>1</td>\n",
       "      <td>CGZOGNUFXMNYEI-UDUHKTKDSA-N</td>\n",
       "      <td>NaN</td>\n",
       "      <td>NaN</td>\n",
       "      <td>Chebi:125390</td>\n",
       "      <td>NaN</td>\n",
       "      <td>NaN</td>\n",
       "    </tr>\n",
       "    <tr>\n",
       "      <th>18477</th>\n",
       "      <td>HKVZHPSRFDVDKW-SFHVURJKSA-N</td>\n",
       "      <td>Chembl45962</td>\n",
       "      <td>0</td>\n",
       "      <td>-2</td>\n",
       "      <td>-2</td>\n",
       "      <td>2</td>\n",
       "      <td>0</td>\n",
       "      <td>1</td>\n",
       "      <td>1</td>\n",
       "      <td>BDSYECBSUUOPCT-UHFFFAOYSA-N</td>\n",
       "      <td>NaN</td>\n",
       "      <td>NaN</td>\n",
       "      <td>Chembl222301</td>\n",
       "      <td>NaN</td>\n",
       "      <td>NaN</td>\n",
       "    </tr>\n",
       "    <tr>\n",
       "      <th>18487</th>\n",
       "      <td>POTYZNMFZDFMQC-UHFFFAOYSA-N</td>\n",
       "      <td>Chembl252545</td>\n",
       "      <td>0</td>\n",
       "      <td>-2</td>\n",
       "      <td>-2</td>\n",
       "      <td>2</td>\n",
       "      <td>0</td>\n",
       "      <td>1</td>\n",
       "      <td>1</td>\n",
       "      <td>VDHAWDNDOKGFTD-UHFFFAOYSA-N</td>\n",
       "      <td>NaN</td>\n",
       "      <td>NaN</td>\n",
       "      <td>Cinacalcet</td>\n",
       "      <td>NaN</td>\n",
       "      <td>NaN</td>\n",
       "    </tr>\n",
       "    <tr>\n",
       "      <th>18489</th>\n",
       "      <td>CMMMTJCZUUSEPB-UHFFFAOYSA-N</td>\n",
       "      <td>CMMMTJCZUUSEPB-UHFFFAOYSA-N</td>\n",
       "      <td>0</td>\n",
       "      <td>-2</td>\n",
       "      <td>-2</td>\n",
       "      <td>2</td>\n",
       "      <td>0</td>\n",
       "      <td>1</td>\n",
       "      <td>1</td>\n",
       "      <td>MYXACKZCYFKMTE-JETRDCLMSA-N</td>\n",
       "      <td>NaN</td>\n",
       "      <td>NaN</td>\n",
       "      <td>3Spk</td>\n",
       "      <td>NaN</td>\n",
       "      <td>NaN</td>\n",
       "    </tr>\n",
       "    <tr>\n",
       "      <th>...</th>\n",
       "      <td>...</td>\n",
       "      <td>...</td>\n",
       "      <td>...</td>\n",
       "      <td>...</td>\n",
       "      <td>...</td>\n",
       "      <td>...</td>\n",
       "      <td>...</td>\n",
       "      <td>...</td>\n",
       "      <td>...</td>\n",
       "      <td>...</td>\n",
       "      <td>...</td>\n",
       "      <td>...</td>\n",
       "      <td>...</td>\n",
       "      <td>...</td>\n",
       "      <td>...</td>\n",
       "    </tr>\n",
       "    <tr>\n",
       "      <th>37533</th>\n",
       "      <td>BCEHBSKCWLPMDN-MGPLVRAMSA-N</td>\n",
       "      <td>Voriconazole</td>\n",
       "      <td>1</td>\n",
       "      <td>-2</td>\n",
       "      <td>-2</td>\n",
       "      <td>2</td>\n",
       "      <td>0</td>\n",
       "      <td>1</td>\n",
       "      <td>1</td>\n",
       "      <td>DOMXUEMWDBAQBQ-UHFFFAOYSA-N</td>\n",
       "      <td>NaN</td>\n",
       "      <td>NaN</td>\n",
       "      <td>Terbinafine</td>\n",
       "      <td>NaN</td>\n",
       "      <td>NaN</td>\n",
       "    </tr>\n",
       "    <tr>\n",
       "      <th>37537</th>\n",
       "      <td>OGCKXYFATMHUQP-UHFFFAOYSA-N</td>\n",
       "      <td>Mls000713642</td>\n",
       "      <td>0</td>\n",
       "      <td>-2</td>\n",
       "      <td>-2</td>\n",
       "      <td>2</td>\n",
       "      <td>0</td>\n",
       "      <td>1</td>\n",
       "      <td>1</td>\n",
       "      <td>KBOPZPXVLCULAV-UHFFFAOYSA-N</td>\n",
       "      <td>NaN</td>\n",
       "      <td>NaN</td>\n",
       "      <td>Mesalazine</td>\n",
       "      <td>NaN</td>\n",
       "      <td>NaN</td>\n",
       "    </tr>\n",
       "    <tr>\n",
       "      <th>37538</th>\n",
       "      <td>NXAITCVPAUWQJG-XDJHFCHBSA-N</td>\n",
       "      <td>An-329/40484313</td>\n",
       "      <td>0</td>\n",
       "      <td>-2</td>\n",
       "      <td>-2</td>\n",
       "      <td>2</td>\n",
       "      <td>0</td>\n",
       "      <td>1</td>\n",
       "      <td>1</td>\n",
       "      <td>DSSYKIVIOFKYAU-UHFFFAOYSA-N</td>\n",
       "      <td>NaN</td>\n",
       "      <td>NaN</td>\n",
       "      <td>Synthetic camphor</td>\n",
       "      <td>NaN</td>\n",
       "      <td>NaN</td>\n",
       "    </tr>\n",
       "    <tr>\n",
       "      <th>37541</th>\n",
       "      <td>BAYFCNHVRYMODQ-UHFFFAOYSA-N</td>\n",
       "      <td>Chembl104313</td>\n",
       "      <td>0</td>\n",
       "      <td>-2</td>\n",
       "      <td>-2</td>\n",
       "      <td>2</td>\n",
       "      <td>0</td>\n",
       "      <td>1</td>\n",
       "      <td>1</td>\n",
       "      <td>JBPUGFODGPKTDW-SFHVURJKSA-N</td>\n",
       "      <td>NaN</td>\n",
       "      <td>NaN</td>\n",
       "      <td>Merimepodib</td>\n",
       "      <td>NaN</td>\n",
       "      <td>NaN</td>\n",
       "    </tr>\n",
       "    <tr>\n",
       "      <th>37542</th>\n",
       "      <td>ZWEHNKRNPOVVGH-UHFFFAOYSA-N</td>\n",
       "      <td>2-Butanone</td>\n",
       "      <td>0</td>\n",
       "      <td>-2</td>\n",
       "      <td>-2</td>\n",
       "      <td>2</td>\n",
       "      <td>0</td>\n",
       "      <td>1</td>\n",
       "      <td>1</td>\n",
       "      <td>NIJJYAXOARWZEE-UHFFFAOYSA-N</td>\n",
       "      <td>NaN</td>\n",
       "      <td>NaN</td>\n",
       "      <td>Valproic Acid</td>\n",
       "      <td>NaN</td>\n",
       "      <td>NaN</td>\n",
       "    </tr>\n",
       "  </tbody>\n",
       "</table>\n",
       "<p>3475 rows × 15 columns</p>\n",
       "</div>"
      ],
      "text/plain": [
       "                          inchikey                         name  is drug  \\\n",
       "18461  XTKQDRDDLFGMQC-MGUPHCMFSA-N                  Chembl39077        0   \n",
       "18471  XNCUQUMSNVUULG-RPGGHDGHSA-N                  CID54684154        0   \n",
       "18477  HKVZHPSRFDVDKW-SFHVURJKSA-N                  Chembl45962        0   \n",
       "18487  POTYZNMFZDFMQC-UHFFFAOYSA-N                 Chembl252545        0   \n",
       "18489  CMMMTJCZUUSEPB-UHFFFAOYSA-N  CMMMTJCZUUSEPB-UHFFFAOYSA-N        0   \n",
       "...                            ...                          ...      ...   \n",
       "37533  BCEHBSKCWLPMDN-MGPLVRAMSA-N                 Voriconazole        1   \n",
       "37537  OGCKXYFATMHUQP-UHFFFAOYSA-N                 Mls000713642        0   \n",
       "37538  NXAITCVPAUWQJG-XDJHFCHBSA-N              An-329/40484313        0   \n",
       "37541  BAYFCNHVRYMODQ-UHFFFAOYSA-N                 Chembl104313        0   \n",
       "37542  ZWEHNKRNPOVVGH-UHFFFAOYSA-N                   2-Butanone        0   \n",
       "\n",
       "       evidence  moa  support  p 1e-5  p 1e-4  p 1e-3  \\\n",
       "18461        -2   -2        2       0       1       1   \n",
       "18471        -2   -2        2       0       1       1   \n",
       "18477        -2   -2        2       0       1       1   \n",
       "18487        -2   -2        2       0       1       1   \n",
       "18489        -2   -2        2       0       1       1   \n",
       "...         ...  ...      ...     ...     ...     ...   \n",
       "37533        -2   -2        2       0       1       1   \n",
       "37537        -2   -2        2       0       1       1   \n",
       "37538        -2   -2        2       0       1       1   \n",
       "37541        -2   -2        2       0       1       1   \n",
       "37542        -2   -2        2       0       1       1   \n",
       "\n",
       "                     top1_inchikey top2_inchikey top3_inchikey  \\\n",
       "18461  UCHDWCPVSPXUMX-UHFFFAOYSA-N           NaN           NaN   \n",
       "18471  CGZOGNUFXMNYEI-UDUHKTKDSA-N           NaN           NaN   \n",
       "18477  BDSYECBSUUOPCT-UHFFFAOYSA-N           NaN           NaN   \n",
       "18487  VDHAWDNDOKGFTD-UHFFFAOYSA-N           NaN           NaN   \n",
       "18489  MYXACKZCYFKMTE-JETRDCLMSA-N           NaN           NaN   \n",
       "...                            ...           ...           ...   \n",
       "37533  DOMXUEMWDBAQBQ-UHFFFAOYSA-N           NaN           NaN   \n",
       "37537  KBOPZPXVLCULAV-UHFFFAOYSA-N           NaN           NaN   \n",
       "37538  DSSYKIVIOFKYAU-UHFFFAOYSA-N           NaN           NaN   \n",
       "37541  JBPUGFODGPKTDW-SFHVURJKSA-N           NaN           NaN   \n",
       "37542  NIJJYAXOARWZEE-UHFFFAOYSA-N           NaN           NaN   \n",
       "\n",
       "               top1_name top2_name top3_name  \n",
       "18461        Montelukast       NaN       NaN  \n",
       "18471       Chebi:125390       NaN       NaN  \n",
       "18477       Chembl222301       NaN       NaN  \n",
       "18487         Cinacalcet       NaN       NaN  \n",
       "18489               3Spk       NaN       NaN  \n",
       "...                  ...       ...       ...  \n",
       "37533        Terbinafine       NaN       NaN  \n",
       "37537         Mesalazine       NaN       NaN  \n",
       "37538  Synthetic camphor       NaN       NaN  \n",
       "37541        Merimepodib       NaN       NaN  \n",
       "37542      Valproic Acid       NaN       NaN  \n",
       "\n",
       "[3475 rows x 15 columns]"
      ]
     },
     "execution_count": 6,
     "metadata": {},
     "output_type": "execute_result"
    }
   ],
   "source": [
    "df[(df[\"support\"] == 2) & (df[\"p 1e-4\"] == 1)]"
   ]
  },
  {
   "cell_type": "code",
   "execution_count": null,
   "metadata": {},
   "outputs": [],
   "source": [
    "df_lit = pickle.load(open(\"../outputs/df_lit_cc.pkl\", \"rb\"))\n",
    "df_lit"
   ]
  },
  {
   "cell_type": "markdown",
   "metadata": {},
   "source": [
    "As you can see, some candidates were lost because they either didn't have a correct SMILES string or we couldn't find them in the CC universe of 800k molecules. Anyway, 151 rows is a lot!"
   ]
  },
  {
   "cell_type": "markdown",
   "metadata": {},
   "source": [
    "## Ranking candidates\n",
    "\n",
    "We have run the pipeline with:\n",
    "\n",
    "* CC: Chemical Checker\n",
    "* FP: Morgan Fingeprints (classical)\n",
    "\n",
    "We compute matrices for:\n",
    "\n",
    "* All evidence cutoffs\n",
    "* All moas\n",
    "\n",
    "Columns are:\n",
    "\n",
    "* inchikey: candidate inchikey\n",
    "* is_drug: yes (1), no (0)\n",
    "* evidence: -2 (no evidence, most of the molecules), -1, 0, 1, 2, 3 (see spreadsheet)\n",
    "* moa: -2 (no evidence, most of the molecules), 0, 1, 2, 3, 4, 5 (see spreadsheet)\n",
    "\n",
    "Number of COVID molecules in:\n",
    "\n",
    "* top_5: top 5 similarity\n",
    "* lpv_5: -log p-value 5 (1e-5)\n",
    "* lpv_4: -log p-value 4 (1e-4)\n",
    "* lpv_3: -log p-value 3 (1e-3)\n",
    "* lpv_2: -log p-value 2 (1e-2)\n",
    "\n",
    "Finally:\n",
    "* best_inchikey: COVID-19 molecule with the highest similarity to the candidate"
   ]
  },
  {
   "cell_type": "code",
   "execution_count": null,
   "metadata": {},
   "outputs": [],
   "source": [
    "with h5py.File(\"../web/data/dist_cc.h5\", \"r\") as hf:\n",
    "    r = hf[\"ranks_raw\"][:]"
   ]
  },
  {
   "cell_type": "code",
   "execution_count": null,
   "metadata": {},
   "outputs": [],
   "source": [
    "np.min(r)"
   ]
  },
  {
   "cell_type": "code",
   "execution_count": null,
   "metadata": {},
   "outputs": [],
   "source": [
    "def load_df(simtype, evidence, moa, sort_by):\n",
    "    if evidence is None or evidence < 0:\n",
    "        evi_suf = \"eviall\"\n",
    "    else:\n",
    "        evi_suf = \"evi%d\" % evidence\n",
    "    if moa is None:\n",
    "        moa_suf = \"moaall\"\n",
    "    else:\n",
    "        moa_suf = \"moa%d\" % moa\n",
    "    fn = \"../outputs/df_cand_%s_%s_%s.pkl\" % (simtype, evi_suf, moa_suf)\n",
    "    df = pickle.load(open(fn, \"rb\"))\n",
    "    return df.sort_values(sort_by, ascending=False)"
   ]
  },
  {
   "cell_type": "markdown",
   "metadata": {},
   "source": [
    "Based on FP similarity, considering *all* candidates and *all* moas, and focusing on a p-value of 1e-3."
   ]
  },
  {
   "cell_type": "code",
   "execution_count": null,
   "metadata": {},
   "outputs": [],
   "source": [
    "load_df(simtype=\"fp\", evidence=None, moa=None, sort_by=\"lpv_3\")"
   ]
  },
  {
   "cell_type": "markdown",
   "metadata": {},
   "source": [
    "Based on CC similarities, considering only evidence >= 1 and moa = 3 (p-value of 1e-4)"
   ]
  },
  {
   "cell_type": "code",
   "execution_count": null,
   "metadata": {},
   "outputs": [],
   "source": [
    "load_df(simtype=\"cc\", evidence=1, moa=3, sort_by=\"lpv_4\")"
   ]
  },
  {
   "cell_type": "code",
   "execution_count": null,
   "metadata": {},
   "outputs": [],
   "source": [
    "def counter(df):\n",
    "    a = len(df[df[\"lpv_4\"] > 0])\n",
    "    df = df[df[\"is_drug\"] == 1]\n",
    "    b = len(df[df[\"lpv_4\"] > 0])\n",
    "    print(\"  Chem: %d\" % a)\n",
    "    print(\"  Drug: %d\" % b)\n",
    "\n",
    "for evid in [None, 0, 1, 2, 3]:\n",
    "    for moa in [None, 0, 1, 2, 3, 4, 5]:\n",
    "        print(\"Evidence: %s - MoA: %s\" % (str(evid), str(moa)))\n",
    "        df = load_df(simtype=\"cc\", evidence=evid, moa=moa, sort_by=\"lpv_4\")\n",
    "        counter(df)\n",
    "    "
   ]
  },
  {
   "cell_type": "code",
   "execution_count": null,
   "metadata": {},
   "outputs": [],
   "source": [
    "x = np.array([[1,2,3,4],[1,2,3,4], [1,2,3,4]])"
   ]
  },
  {
   "cell_type": "code",
   "execution_count": null,
   "metadata": {},
   "outputs": [],
   "source": [
    "x*[0,1,2,3]"
   ]
  },
  {
   "cell_type": "markdown",
   "metadata": {},
   "source": [
    "## Manuscript plots"
   ]
  },
  {
   "cell_type": "markdown",
   "metadata": {},
   "source": [
    "## Literature table"
   ]
  },
  {
   "cell_type": "code",
   "execution_count": null,
   "metadata": {},
   "outputs": [],
   "source": [
    "evidence_legend = {\n",
    "    -1: \"Failed in clinics\",\n",
    "    0 : \"Computational\",\n",
    "    1 : \"Preclinical\",\n",
    "    2 : \"Clinics\",\n",
    "    3 : \"Clinics COVID19\"\n",
    "}\n",
    "\n",
    "moa_legend = {\n",
    "    -2: \"NA\",\n",
    "    0 : \"Unknown\",\n",
    "    1 : \"Host factor\",\n",
    "    2 : \"Virus entry\",\n",
    "    3 : \"Protease inh.\",\n",
    "    4 : \"RNA trans./rep.\",\n",
    "    5 : \"Immunomodulator\"\n",
    "}"
   ]
  },
  {
   "cell_type": "code",
   "execution_count": null,
   "metadata": {},
   "outputs": [],
   "source": [
    "def barplot(ax, df, column):\n",
    "    counts = collections.defaultdict(int)\n",
    "    for r in df[column].values:\n",
    "        counts[r] += 1\n",
    "    keys = sorted(counts.keys())\n",
    "    vals = [counts[k] for k in keys]\n",
    "    if column == \"moa\":\n",
    "        keys = [-1, 0, 1, 2, 3, 4, 5]\n",
    "    ax.scatter(vals, keys, c=keys, cmap=\"Spectral\", edgecolor=\"black\", s=80)\n",
    "    if column == \"moa\":\n",
    "        d = moa_legend\n",
    "        yticklabels = [d[x] for x in sorted(d.keys())]\n",
    "        yticks = [-1, 0, 1, 2, 3, 4, 5]\n",
    "        ax.set_yticks(yticks)\n",
    "        ax.set_yticklabels(yticklabels)\n",
    "    else:\n",
    "        d = evidence_legend\n",
    "        yticks = sorted(d.keys())\n",
    "        ax.set_yticks(yticks)\n",
    "        ax.set_yticklabels([d[x] for x in yticks])\n",
    "    if column == \"moa\":\n",
    "        ax.set_title(\"MoA\")\n",
    "    else:\n",
    "        ax.set_title(column.capitalize())\n",
    "    ax.set_xlabel(\"Molecules\")\n",
    "\n",
    "fig, axs = plt.subplots(1,2, figsize=(8,2.2))\n",
    "axs = axs.flatten()\n",
    "\n",
    "barplot(axs[0], df_lit, \"evidence\")\n",
    "barplot(axs[1], df_lit, \"moa\")\n",
    "plt.tight_layout()"
   ]
  },
  {
   "cell_type": "code",
   "execution_count": null,
   "metadata": {},
   "outputs": [],
   "source": [
    "M = np.zeros((7, 5))\n",
    "for i, moa in enumerate([-2, 0, 1, 2, 3, 4, 5]):\n",
    "    for j, evi in enumerate([-1, 0, 1, 2, 3]):\n",
    "        n = len(df_lit[(df_lit[\"evidence\"] == evi) & (df_lit[\"moa\"] == moa)])\n",
    "        d = len(df_lit[(df_lit[\"evidence\"] == evi) | (df_lit[\"moa\"] == moa)])\n",
    "        M[i,j] = n/d"
   ]
  },
  {
   "cell_type": "code",
   "execution_count": null,
   "metadata": {},
   "outputs": [],
   "source": [
    "plt.imshow(M)"
   ]
  },
  {
   "cell_type": "markdown",
   "metadata": {},
   "source": [
    "## Similarity matrix\n",
    "\n",
    "Now I explore the similarity matrix"
   ]
  },
  {
   "cell_type": "code",
   "execution_count": null,
   "metadata": {},
   "outputs": [],
   "source": [
    "with h5py.File(\"../web/data/dist_trim_cc.h5\", \"r\") as hf:\n",
    "    ranks = hf[\"ranks\"][:]\n",
    "    print(hf.keys())"
   ]
  },
  {
   "cell_type": "code",
   "execution_count": null,
   "metadata": {},
   "outputs": [],
   "source": [
    "ranks.shape"
   ]
  },
  {
   "cell_type": "code",
   "execution_count": null,
   "metadata": {},
   "outputs": [],
   "source": [
    "idxs_i = np.argsort(-np.sum(ranks, axis=1))\n",
    "idxs_j = np.argsort(-np.sum(ranks, axis=0))"
   ]
  },
  {
   "cell_type": "code",
   "execution_count": null,
   "metadata": {},
   "outputs": [],
   "source": [
    "fig, ax = plt.subplots(1,1,figsize=(10,3))\n",
    "\n",
    "ax.imshow(ranks[idxs_i][:,idxs_j], aspect=\"auto\", cmap=\"GnBu\")"
   ]
  },
  {
   "cell_type": "code",
   "execution_count": null,
   "metadata": {},
   "outputs": [],
   "source": [
    "rr = ranks[idxs_i][:,idxs_j]"
   ]
  },
  {
   "cell_type": "code",
   "execution_count": null,
   "metadata": {},
   "outputs": [],
   "source": [
    "set(rr.ravel())"
   ]
  },
  {
   "cell_type": "code",
   "execution_count": null,
   "metadata": {},
   "outputs": [],
   "source": [
    "np.sum(rr, axis=1)"
   ]
  },
  {
   "cell_type": "code",
   "execution_count": null,
   "metadata": {},
   "outputs": [],
   "source": []
  }
 ],
 "metadata": {
  "kernelspec": {
   "display_name": "Python 3",
   "language": "python",
   "name": "python3"
  },
  "language_info": {
   "codemirror_mode": {
    "name": "ipython",
    "version": 3
   },
   "file_extension": ".py",
   "mimetype": "text/x-python",
   "name": "python",
   "nbconvert_exporter": "python",
   "pygments_lexer": "ipython3",
   "version": "3.7.4"
  }
 },
 "nbformat": 4,
 "nbformat_minor": 2
}
