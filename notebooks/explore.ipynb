{
 "cells": [
  {
   "cell_type": "markdown",
   "metadata": {},
   "source": [
    "# Explore results\n",
    "\n",
    "In this notebook, I explore the similarity results in the search for COVID-19 candidates based on existing literature data."
   ]
  },
  {
   "cell_type": "code",
   "execution_count": 2,
   "metadata": {},
   "outputs": [],
   "source": [
    "%matplotlib inline\n",
    "import seaborn as sns\n",
    "import matplotlib.pyplot as plt\n",
    "import pickle\n",
    "import numpy as np\n",
    "import collections\n",
    "import h5py\n",
    "from chemicalchecker.util.plot.diagnosticsplot import set_style\n",
    "set_style()"
   ]
  },
  {
   "cell_type": "markdown",
   "metadata": {},
   "source": [
    "## Literature data\n",
    "\n",
    "This is how the literature data looks like once pulled from the Google Spreadsheet and processed."
   ]
  },
  {
   "cell_type": "code",
   "execution_count": 49,
   "metadata": {},
   "outputs": [
    {
     "data": {
      "text/html": [
       "<div>\n",
       "<style scoped>\n",
       "    .dataframe tbody tr th:only-of-type {\n",
       "        vertical-align: middle;\n",
       "    }\n",
       "\n",
       "    .dataframe tbody tr th {\n",
       "        vertical-align: top;\n",
       "    }\n",
       "\n",
       "    .dataframe thead th {\n",
       "        text-align: right;\n",
       "    }\n",
       "</style>\n",
       "<table border=\"1\" class=\"dataframe\">\n",
       "  <thead>\n",
       "    <tr style=\"text-align: right;\">\n",
       "      <th></th>\n",
       "      <th>inchikey</th>\n",
       "      <th>name</th>\n",
       "      <th>evidence</th>\n",
       "      <th>moa</th>\n",
       "      <th>descriptions</th>\n",
       "      <th>links</th>\n",
       "    </tr>\n",
       "  </thead>\n",
       "  <tbody>\n",
       "    <tr>\n",
       "      <th>0</th>\n",
       "      <td>KBOPZPXVLCULAV-UHFFFAOYSA-N</td>\n",
       "      <td>Mesalazine</td>\n",
       "      <td>0</td>\n",
       "      <td>5</td>\n",
       "      <td>None, it´s a computational repurposing strateg...</td>\n",
       "      <td>https://www.nature.com/articles/s41421-020-0153-3</td>\n",
       "    </tr>\n",
       "    <tr>\n",
       "      <th>1</th>\n",
       "      <td>XFCLJVABOIYOMF-QPLCGJKRSA-N</td>\n",
       "      <td>Toremifene;Toremifene citrate</td>\n",
       "      <td>1</td>\n",
       "      <td>2</td>\n",
       "      <td>None, it´s a computational repurposing strateg...</td>\n",
       "      <td>https://www.nature.com/articles/s41421-020-015...</td>\n",
       "    </tr>\n",
       "    <tr>\n",
       "      <th>2</th>\n",
       "      <td>JUKPWJGBANNWMW-VWBFHTRKSA-N</td>\n",
       "      <td>Eplerenone;Eplerenone</td>\n",
       "      <td>1</td>\n",
       "      <td>5</td>\n",
       "      <td>None, it´s a computational repurposing strateg...</td>\n",
       "      <td>https://www.nature.com/articles/s41421-020-015...</td>\n",
       "    </tr>\n",
       "    <tr>\n",
       "      <th>3</th>\n",
       "      <td>AHOUBRCZNHFOSL-YOEHRIQHSA-N</td>\n",
       "      <td>Paroxetine</td>\n",
       "      <td>0</td>\n",
       "      <td>0</td>\n",
       "      <td>None, it´s a computational repurposing strateg...</td>\n",
       "      <td>https://www.nature.com/articles/s41421-020-0153-3</td>\n",
       "    </tr>\n",
       "    <tr>\n",
       "      <th>4</th>\n",
       "      <td>QFJCIRLUMZQUOT-HPLJOQBZSA-N</td>\n",
       "      <td>Sirolimus;Sirolimus;Rapamycin;Rapamycin</td>\n",
       "      <td>2</td>\n",
       "      <td>5</td>\n",
       "      <td>None, it´s a computational repurposing strateg...</td>\n",
       "      <td>https://www.nature.com/articles/s41421-020-015...</td>\n",
       "    </tr>\n",
       "    <tr>\n",
       "      <th>...</th>\n",
       "      <td>...</td>\n",
       "      <td>...</td>\n",
       "      <td>...</td>\n",
       "      <td>...</td>\n",
       "      <td>...</td>\n",
       "      <td>...</td>\n",
       "    </tr>\n",
       "    <tr>\n",
       "      <th>146</th>\n",
       "      <td>FAKRSMQSSFJEIM-RQJHMYQMSA-N</td>\n",
       "      <td>Captopril</td>\n",
       "      <td>0</td>\n",
       "      <td>-2</td>\n",
       "      <td>Drugs from Sars-Cov-2-Human PPI map</td>\n",
       "      <td>https://www.biorxiv.org/content/10.1101/2020.0...</td>\n",
       "    </tr>\n",
       "    <tr>\n",
       "      <th>147</th>\n",
       "      <td>RLAWWYSOJDYHDC-BZSNNMDCSA-N</td>\n",
       "      <td>Lisinopril</td>\n",
       "      <td>0</td>\n",
       "      <td>-2</td>\n",
       "      <td>Drugs from Sars-Cov-2-Human PPI map</td>\n",
       "      <td>https://www.biorxiv.org/content/10.1101/2020.0...</td>\n",
       "    </tr>\n",
       "    <tr>\n",
       "      <th>148</th>\n",
       "      <td>WIIZWVCIJKGZOK-RKDXNWHRSA-N</td>\n",
       "      <td>Chloramphenicol</td>\n",
       "      <td>0</td>\n",
       "      <td>-2</td>\n",
       "      <td>Drugs from Sars-Cov-2-Human PPI map</td>\n",
       "      <td>https://www.biorxiv.org/content/10.1101/2020.0...</td>\n",
       "    </tr>\n",
       "    <tr>\n",
       "      <th>149</th>\n",
       "      <td>CGZOGNUFXMNYEI-UDUHKTKDSA-N</td>\n",
       "      <td>Tigecycline</td>\n",
       "      <td>0</td>\n",
       "      <td>-2</td>\n",
       "      <td>Drugs from Sars-Cov-2-Human PPI map</td>\n",
       "      <td>https://www.biorxiv.org/content/10.1101/2020.0...</td>\n",
       "    </tr>\n",
       "    <tr>\n",
       "      <th>150</th>\n",
       "      <td>TYZROVQLWOKYKF-ZDUSSCGKSA-N</td>\n",
       "      <td>Linezolid</td>\n",
       "      <td>0</td>\n",
       "      <td>-2</td>\n",
       "      <td>Drugs from Sars-Cov-2-Human PPI map</td>\n",
       "      <td>https://www.biorxiv.org/content/10.1101/2020.0...</td>\n",
       "    </tr>\n",
       "  </tbody>\n",
       "</table>\n",
       "<p>151 rows × 6 columns</p>\n",
       "</div>"
      ],
      "text/plain": [
       "                        inchikey                                     name  \\\n",
       "0    KBOPZPXVLCULAV-UHFFFAOYSA-N                               Mesalazine   \n",
       "1    XFCLJVABOIYOMF-QPLCGJKRSA-N            Toremifene;Toremifene citrate   \n",
       "2    JUKPWJGBANNWMW-VWBFHTRKSA-N                    Eplerenone;Eplerenone   \n",
       "3    AHOUBRCZNHFOSL-YOEHRIQHSA-N                               Paroxetine   \n",
       "4    QFJCIRLUMZQUOT-HPLJOQBZSA-N  Sirolimus;Sirolimus;Rapamycin;Rapamycin   \n",
       "..                           ...                                      ...   \n",
       "146  FAKRSMQSSFJEIM-RQJHMYQMSA-N                                Captopril   \n",
       "147  RLAWWYSOJDYHDC-BZSNNMDCSA-N                               Lisinopril   \n",
       "148  WIIZWVCIJKGZOK-RKDXNWHRSA-N                          Chloramphenicol   \n",
       "149  CGZOGNUFXMNYEI-UDUHKTKDSA-N                              Tigecycline   \n",
       "150  TYZROVQLWOKYKF-ZDUSSCGKSA-N                                Linezolid   \n",
       "\n",
       "     evidence  moa                                       descriptions  \\\n",
       "0           0    5  None, it´s a computational repurposing strateg...   \n",
       "1           1    2  None, it´s a computational repurposing strateg...   \n",
       "2           1    5  None, it´s a computational repurposing strateg...   \n",
       "3           0    0  None, it´s a computational repurposing strateg...   \n",
       "4           2    5  None, it´s a computational repurposing strateg...   \n",
       "..        ...  ...                                                ...   \n",
       "146         0   -2                Drugs from Sars-Cov-2-Human PPI map   \n",
       "147         0   -2                Drugs from Sars-Cov-2-Human PPI map   \n",
       "148         0   -2                Drugs from Sars-Cov-2-Human PPI map   \n",
       "149         0   -2                Drugs from Sars-Cov-2-Human PPI map   \n",
       "150         0   -2                Drugs from Sars-Cov-2-Human PPI map   \n",
       "\n",
       "                                                 links  \n",
       "0    https://www.nature.com/articles/s41421-020-0153-3  \n",
       "1    https://www.nature.com/articles/s41421-020-015...  \n",
       "2    https://www.nature.com/articles/s41421-020-015...  \n",
       "3    https://www.nature.com/articles/s41421-020-0153-3  \n",
       "4    https://www.nature.com/articles/s41421-020-015...  \n",
       "..                                                 ...  \n",
       "146  https://www.biorxiv.org/content/10.1101/2020.0...  \n",
       "147  https://www.biorxiv.org/content/10.1101/2020.0...  \n",
       "148  https://www.biorxiv.org/content/10.1101/2020.0...  \n",
       "149  https://www.biorxiv.org/content/10.1101/2020.0...  \n",
       "150  https://www.biorxiv.org/content/10.1101/2020.0...  \n",
       "\n",
       "[151 rows x 6 columns]"
      ]
     },
     "execution_count": 49,
     "metadata": {},
     "output_type": "execute_result"
    }
   ],
   "source": [
    "df_lit = pickle.load(open(\"../outputs/df_lit_cc.pkl\", \"rb\"))\n",
    "df_lit"
   ]
  },
  {
   "cell_type": "markdown",
   "metadata": {},
   "source": [
    "As you can see, some candidates were lost because they either didn't have a correct SMILES string or we couldn't find them in the CC universe of 800k molecules. Anyway, 151 rows is a lot!"
   ]
  },
  {
   "cell_type": "markdown",
   "metadata": {},
   "source": [
    "## Ranking candidates\n",
    "\n",
    "We have run the pipeline with:\n",
    "\n",
    "* CC: Chemical Checker\n",
    "* FP: Morgan Fingeprints (classical)\n",
    "\n",
    "We compute matrices for:\n",
    "\n",
    "* All evidence cutoffs\n",
    "* All moas\n",
    "\n",
    "Columns are:\n",
    "\n",
    "* inchikey: candidate inchikey\n",
    "* is_drug: yes (1), no (0)\n",
    "* evidence: -2 (no evidence, most of the molecules), -1, 0, 1, 2, 3 (see spreadsheet)\n",
    "* moa: -2 (no evidence, most of the molecules), 0, 1, 2, 3, 4, 5 (see spreadsheet)\n",
    "\n",
    "Number of COVID molecules in:\n",
    "\n",
    "* top_5: top 5 similarity\n",
    "* lpv_5: -log p-value 5 (1e-5)\n",
    "* lpv_4: -log p-value 4 (1e-4)\n",
    "* lpv_3: -log p-value 3 (1e-3)\n",
    "* lpv_2: -log p-value 2 (1e-2)\n",
    "\n",
    "Finally:\n",
    "* best_inchikey: COVID-19 molecule with the highest similarity to the candidate"
   ]
  },
  {
   "cell_type": "code",
   "execution_count": 55,
   "metadata": {},
   "outputs": [],
   "source": [
    "with h5py.File(\"../web/data/dist_cc.h5\", \"r\") as hf:\n",
    "    r = hf[\"ranks_raw\"][:]"
   ]
  },
  {
   "cell_type": "code",
   "execution_count": 58,
   "metadata": {},
   "outputs": [
    {
     "data": {
      "text/plain": [
       "-1"
      ]
     },
     "execution_count": 58,
     "metadata": {},
     "output_type": "execute_result"
    }
   ],
   "source": [
    "np.min(r)"
   ]
  },
  {
   "cell_type": "code",
   "execution_count": null,
   "metadata": {},
   "outputs": [],
   "source": [
    "def load_df(simtype, evidence, moa, sort_by):\n",
    "    if evidence is None or evidence < 0:\n",
    "        evi_suf = \"eviall\"\n",
    "    else:\n",
    "        evi_suf = \"evi%d\" % evidence\n",
    "    if moa is None:\n",
    "        moa_suf = \"moaall\"\n",
    "    else:\n",
    "        moa_suf = \"moa%d\" % moa\n",
    "    fn = \"../outputs/df_cand_%s_%s_%s.pkl\" % (simtype, evi_suf, moa_suf)\n",
    "    df = pickle.load(open(fn, \"rb\"))\n",
    "    return df.sort_values(sort_by, ascending=False)"
   ]
  },
  {
   "cell_type": "markdown",
   "metadata": {},
   "source": [
    "Based on FP similarity, considering *all* candidates and *all* moas, and focusing on a p-value of 1e-3."
   ]
  },
  {
   "cell_type": "code",
   "execution_count": null,
   "metadata": {},
   "outputs": [],
   "source": [
    "load_df(simtype=\"fp\", evidence=None, moa=None, sort_by=\"lpv_3\")"
   ]
  },
  {
   "cell_type": "markdown",
   "metadata": {},
   "source": [
    "Based on CC similarities, considering only evidence >= 1 and moa = 3 (p-value of 1e-4)"
   ]
  },
  {
   "cell_type": "code",
   "execution_count": null,
   "metadata": {},
   "outputs": [],
   "source": [
    "load_df(simtype=\"cc\", evidence=1, moa=3, sort_by=\"lpv_4\")"
   ]
  },
  {
   "cell_type": "code",
   "execution_count": null,
   "metadata": {},
   "outputs": [],
   "source": [
    "def counter(df):\n",
    "    a = len(df[df[\"lpv_4\"] > 0])\n",
    "    df = df[df[\"is_drug\"] == 1]\n",
    "    b = len(df[df[\"lpv_4\"] > 0])\n",
    "    print(\"  Chem: %d\" % a)\n",
    "    print(\"  Drug: %d\" % b)\n",
    "\n",
    "for evid in [None, 0, 1, 2, 3]:\n",
    "    for moa in [None, 0, 1, 2, 3, 4, 5]:\n",
    "        print(\"Evidence: %s - MoA: %s\" % (str(evid), str(moa)))\n",
    "        df = load_df(simtype=\"cc\", evidence=evid, moa=moa, sort_by=\"lpv_4\")\n",
    "        counter(df)\n",
    "    "
   ]
  },
  {
   "cell_type": "code",
   "execution_count": null,
   "metadata": {},
   "outputs": [],
   "source": [
    "x = np.array([[1,2,3,4],[1,2,3,4], [1,2,3,4]])"
   ]
  },
  {
   "cell_type": "code",
   "execution_count": null,
   "metadata": {},
   "outputs": [],
   "source": [
    "x*[0,1,2,3]"
   ]
  },
  {
   "cell_type": "markdown",
   "metadata": {},
   "source": [
    "## Manuscript plots"
   ]
  },
  {
   "cell_type": "markdown",
   "metadata": {},
   "source": [
    "## Literature table"
   ]
  },
  {
   "cell_type": "code",
   "execution_count": null,
   "metadata": {},
   "outputs": [],
   "source": [
    "evidence_legend = {\n",
    "    -1: \"Failed in clinics\",\n",
    "    0 : \"Computational\",\n",
    "    1 : \"Preclinical\",\n",
    "    2 : \"Clinics\",\n",
    "    3 : \"Clinics COVID19\"\n",
    "}\n",
    "\n",
    "moa_legend = {\n",
    "    -2: \"NA\",\n",
    "    0 : \"Unknown\",\n",
    "    1 : \"Host factor\",\n",
    "    2 : \"Virus entry\",\n",
    "    3 : \"Protease inh.\",\n",
    "    4 : \"RNA trans./rep.\",\n",
    "    5 : \"Immunomodulator\"\n",
    "}"
   ]
  },
  {
   "cell_type": "code",
   "execution_count": null,
   "metadata": {},
   "outputs": [],
   "source": [
    "def barplot(ax, df, column):\n",
    "    counts = collections.defaultdict(int)\n",
    "    for r in df[column].values:\n",
    "        counts[r] += 1\n",
    "    keys = sorted(counts.keys())\n",
    "    vals = [counts[k] for k in keys]\n",
    "    if column == \"moa\":\n",
    "        keys = [-1, 0, 1, 2, 3, 4, 5]\n",
    "    ax.scatter(vals, keys, c=keys, cmap=\"Spectral\", edgecolor=\"black\", s=80)\n",
    "    if column == \"moa\":\n",
    "        d = moa_legend\n",
    "        yticklabels = [d[x] for x in sorted(d.keys())]\n",
    "        yticks = [-1, 0, 1, 2, 3, 4, 5]\n",
    "        ax.set_yticks(yticks)\n",
    "        ax.set_yticklabels(yticklabels)\n",
    "    else:\n",
    "        d = evidence_legend\n",
    "        yticks = sorted(d.keys())\n",
    "        ax.set_yticks(yticks)\n",
    "        ax.set_yticklabels([d[x] for x in yticks])\n",
    "    if column == \"moa\":\n",
    "        ax.set_title(\"MoA\")\n",
    "    else:\n",
    "        ax.set_title(column.capitalize())\n",
    "    ax.set_xlabel(\"Molecules\")\n",
    "\n",
    "fig, axs = plt.subplots(1,2, figsize=(8,2.2))\n",
    "axs = axs.flatten()\n",
    "\n",
    "barplot(axs[0], df_lit, \"evidence\")\n",
    "barplot(axs[1], df_lit, \"moa\")\n",
    "plt.tight_layout()"
   ]
  },
  {
   "cell_type": "code",
   "execution_count": null,
   "metadata": {},
   "outputs": [],
   "source": [
    "M = np.zeros((7, 5))\n",
    "for i, moa in enumerate([-2, 0, 1, 2, 3, 4, 5]):\n",
    "    for j, evi in enumerate([-1, 0, 1, 2, 3]):\n",
    "        n = len(df_lit[(df_lit[\"evidence\"] == evi) & (df_lit[\"moa\"] == moa)])\n",
    "        d = len(df_lit[(df_lit[\"evidence\"] == evi) | (df_lit[\"moa\"] == moa)])\n",
    "        M[i,j] = n/d"
   ]
  },
  {
   "cell_type": "code",
   "execution_count": null,
   "metadata": {},
   "outputs": [],
   "source": [
    "plt.imshow(M)"
   ]
  },
  {
   "cell_type": "markdown",
   "metadata": {},
   "source": [
    "## Similarity matrix\n",
    "\n",
    "Now I explore the similarity matrix"
   ]
  },
  {
   "cell_type": "code",
   "execution_count": null,
   "metadata": {},
   "outputs": [],
   "source": [
    "with h5py.File(\"../web/data/dist_trim_cc.h5\", \"r\") as hf:\n",
    "    ranks = hf[\"ranks\"][:]\n",
    "    print(hf.keys())"
   ]
  },
  {
   "cell_type": "code",
   "execution_count": null,
   "metadata": {},
   "outputs": [],
   "source": [
    "ranks.shape"
   ]
  },
  {
   "cell_type": "code",
   "execution_count": null,
   "metadata": {},
   "outputs": [],
   "source": [
    "idxs_i = np.argsort(-np.sum(ranks, axis=1))\n",
    "idxs_j = np.argsort(-np.sum(ranks, axis=0))"
   ]
  },
  {
   "cell_type": "code",
   "execution_count": null,
   "metadata": {},
   "outputs": [],
   "source": [
    "fig, ax = plt.subplots(1,1,figsize=(10,3))\n",
    "\n",
    "ax.imshow(ranks[idxs_i][:,idxs_j], aspect=\"auto\", cmap=\"GnBu\")"
   ]
  },
  {
   "cell_type": "code",
   "execution_count": null,
   "metadata": {},
   "outputs": [],
   "source": [
    "rr = ranks[idxs_i][:,idxs_j]"
   ]
  },
  {
   "cell_type": "code",
   "execution_count": null,
   "metadata": {},
   "outputs": [],
   "source": [
    "set(rr.ravel())"
   ]
  },
  {
   "cell_type": "code",
   "execution_count": null,
   "metadata": {},
   "outputs": [],
   "source": [
    "np.sum(rr, axis=1)"
   ]
  },
  {
   "cell_type": "code",
   "execution_count": null,
   "metadata": {},
   "outputs": [],
   "source": []
  }
 ],
 "metadata": {
  "kernelspec": {
   "display_name": "Python 3",
   "language": "python",
   "name": "python3"
  },
  "language_info": {
   "codemirror_mode": {
    "name": "ipython",
    "version": 3
   },
   "file_extension": ".py",
   "mimetype": "text/x-python",
   "name": "python",
   "nbconvert_exporter": "python",
   "pygments_lexer": "ipython3",
   "version": "3.7.4"
  }
 },
 "nbformat": 4,
 "nbformat_minor": 2
}
